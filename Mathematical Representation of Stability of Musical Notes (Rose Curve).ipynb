{
  "cells": [
    {
      "cell_type": "code", 
      "execution_count": 1, 
      "metadata": {
        "collapsed": true
      }, 
      "outputs": [], 
      "source": [
        "import numpy as np\n", 
        "import math\n", 
        "import matplotlib.pyplot as plt"
      ]
    }, 
    {
      "cell_type": "code", 
      "execution_count": 2, 
      "metadata": {
        "collapsed": true
      }, 
      "outputs": [], 
      "source": [
        "%matplotlib inline"
      ]
    }, 
    {
      "cell_type": "code", 
      "execution_count": 3, 
      "metadata": {
        "collapsed": true
      }, 
      "outputs": [], 
      "source": [
        "import math\n", 
        "import numpy as np\n", 
        "\n", 
        "class Frequency():\n", 
        "\n", 
        "    SAMPLING_RATE = 10 * 44100 # Hz https://en.wikipedia.org/wiki/MP3\n", 
        "    DURATION = .20  # .20 second clip\n", 
        "    X = np.arange(0, DURATION, 1.00/SAMPLING_RATE)\n", 
        "    FUNC = np.sin\n", 
        "\n", 
        "    def __init__(self, frequency):\n", 
        "        self.frequency = frequency\n", 
        "        \n", 
        "    @property\n", 
        "    def wave(self):\n", 
        "        y = self.FUNC(self.frequency * self.X * 2 * math.pi)  # 1 hz * freq\n", 
        "        return y\n", 
        "\n", 
        "class Note(Frequency):\n", 
        "    \n", 
        "    NOTES = \"C C# D D# E F F# G G# A A# B\".split()\n", 
        "    FREQ = {(\"A\", 4): 440}\n", 
        "    TWELFTH_ROOT_OF_TWO = math.pow(2, 1.00/12.00)\n", 
        "    \n", 
        "    def __init__(self, name = \"A\", octave = 4):\n", 
        "        assert(name in self.NOTES)\n", 
        "        self.name = name\n", 
        "        self.octave = int(octave)\n", 
        "        \n", 
        "    @property\n", 
        "    def frequency(self):\n", 
        "        difference = self.ordinal - (Note(\"A\", 4).ordinal)\n", 
        "        return 440.00 * (self.TWELFTH_ROOT_OF_TWO ** difference)\n", 
        "        \n", 
        "    @property\n", 
        "    def ordinal(self):\n", 
        "        return self.octave * 12 + self.NOTES.index(self.name)\n", 
        "        \n", 
        "    def __repr__(self):\n", 
        "        return \"{}{} ({:.2f} Hz)\".format(\n", 
        "            self.name, self.octave, self.frequency)"
      ]
    }, 
    {
      "cell_type": "code", 
      "execution_count": 11, 
      "metadata": {
        "collapsed": true
      }, 
      "outputs": [], 
      "source": [
        "def f(theta, a, b):\n", 
        "    x = np.cos((a/b) * theta) * np.cos(theta)\n", 
        "    y = np.cos((a/b) * theta) * np.sin(theta)\n", 
        "    return {'x': x, 'y': y, 'c': (theta)}"
      ]
    }, 
    {
      "cell_type": "code", 
      "execution_count": null, 
      "metadata": {
        "collapsed": true
      }, 
      "outputs": [], 
      "source": []
    }, 
    {
      "cell_type": "code", 
      "execution_count": null, 
      "metadata": {
        "collapsed": true
      }, 
      "outputs": [], 
      "source": []
    }, 
    {
      "cell_type": "markdown", 
      "metadata": {}, 
      "source": [
        "```\n", 
        "C: root\n", 
        "D: Major 2nd\n", 
        "E: Major 3rd\n", 
        "F: Perfect 4th\n", 
        "G: Perfect 5th\n", 
        "A: Minor 3th / Minor 6th\n", 
        "B: Minor 2nd / Minor 7th\n", 
        "C: Tonal\n", 
        "```"
      ]
    }, 
    {
      "cell_type": "markdown", 
      "metadata": {}, 
      "source": [
        "```\n", 
        "C#: Minor 2nd\n", 
        "D#: Minor 3rd\n", 
        "F#: Tritone\n", 
        "G#: Major 3rd\n", 
        "A# / Bb: Major 2nd\n", 
        "```"
      ]
    }, 
    {
      "cell_type": "code", 
      "execution_count": 34, 
      "metadata": {
        "collapsed": true
      }, 
      "outputs": [], 
      "source": [
        "C = Note('C').frequency"
      ]
    }, 
    {
      "cell_type": "code", 
      "execution_count": null, 
      "metadata": {
        "collapsed": true
      }, 
      "outputs": [], 
      "source": []
    }, 
    {
      "cell_type": "code", 
      "execution_count": 36, 
      "metadata": {}, 
      "outputs": [
        {
          "data": {
            "image/png": "", 
            "text/plain": [
              "<matplotlib.figure.Figure at 0x11adef250>"
            ]
          }, 
          "metadata": {
            "image/png": {
              "location": "images/auto_f9264e1b0e2d488a80a49cdd60c2de5f.png"
            }
          }, 
          "output_type": "display_data"
        }
      ], 
      "source": [
        "x = np.arange(0, 40, .01)\n", 
        "plt.figure(figsize=(20,20))\n", 
        "for i, n in enumerate(list('FG')):\n", 
        "    ax = plt.subplot(2,2,i+1)\n", 
        "    ax.set_facecolor(\"#000000\")\n", 
        "    plt.scatter(s=1, **f(x, C, Note(n).frequency))"
      ]
    }, 
    {
      "cell_type": "code", 
      "execution_count": 38, 
      "metadata": {}, 
      "outputs": [
        {
          "data": {
            "image/png": "", 
            "text/plain": [
              "<matplotlib.figure.Figure at 0x11a270610>"
            ]
          }, 
          "metadata": {
            "image/png": {
              "location": "images/auto_5f7b9520a0fd461889e6d0c9a709ae2b.png"
            }
          }, 
          "output_type": "display_data"
        }
      ], 
      "source": [
        "x = np.arange(0, 160, .01)\n", 
        "plt.figure(figsize=(20,20))\n", 
        "for i, n in enumerate(['D', 'E', 'G#', 'A#']):\n", 
        "    ax = plt.subplot(2,2,i+1)\n", 
        "    ax.set_facecolor(\"#000000\")\n", 
        "    plt.scatter(s=1, **f(x, C, Note(n).frequency))"
      ]
    }, 
    {
      "cell_type": "code", 
      "execution_count": 39, 
      "metadata": {}, 
      "outputs": [
        {
          "data": {
            "image/png": "", 
            "text/plain": [
              "<matplotlib.figure.Figure at 0x119c09610>"
            ]
          }, 
          "metadata": {
            "image/png": {
              "location": "images/auto_b749bb5ca1734a3d9a2913ddb6312646.png"
            }
          }, 
          "output_type": "display_data"
        }
      ], 
      "source": [
        "x = np.arange(0, 320, .01)\n", 
        "plt.figure(figsize=(20,20))\n", 
        "for i, n in enumerate(['C#', 'D#', 'A', 'B']):\n", 
        "    ax = plt.subplot(2,2,i+1)\n", 
        "    ax.set_facecolor(\"#000000\")\n", 
        "    plt.scatter(s=1, **f(x, C, Note(n).frequency))"
      ]
    }, 
    {
      "cell_type": "code", 
      "execution_count": 41, 
      "metadata": {}, 
      "outputs": [
        {
          "data": {
            "image/png": "", 
            "text/plain": [
              "<matplotlib.figure.Figure at 0x11a2886d0>"
            ]
          }, 
          "metadata": {
            "image/png": {
              "location": "images/auto_136fcf495ebf487492da3325a7c41d27.png"
            }
          }, 
          "output_type": "display_data"
        }
      ], 
      "source": [
        "x = np.arange(0, 640, .01)\n", 
        "plt.figure(figsize=(20,20))\n", 
        "for i, n in enumerate(['F#', 'F#']):\n", 
        "    ax = plt.subplot(2,2,i+1)\n", 
        "    ax.set_facecolor(\"#000000\")\n", 
        "    plt.scatter(s=1, **f(x, C, Note(n).frequency))"
      ]
    }, 
    {
      "cell_type": "code", 
      "execution_count": null, 
      "metadata": {
        "collapsed": true
      }, 
      "outputs": [], 
      "source": []
    }, 
    {
      "cell_type": "code", 
      "execution_count": null, 
      "metadata": {
        "collapsed": true
      }, 
      "outputs": [], 
      "source": []
    }, 
    {
      "cell_type": "code", 
      "execution_count": null, 
      "metadata": {
        "collapsed": true
      }, 
      "outputs": [], 
      "source": []
    }
  ], 
  "metadata": {
    "kernelspec": {
      "display_name": "Python 2", 
      "language": "python", 
      "name": "python2"
    }, 
    "language_info": {
      "codemirror_mode": {
        "name": "ipython", 
        "version": 2
      }, 
      "file_extension": ".py", 
      "mimetype": "text/x-python", 
      "name": "python", 
      "nbconvert_exporter": "python", 
      "pygments_lexer": "ipython2", 
      "version": "2.7.15"
    }
  }, 
  "nbformat": 4, 
  "nbformat_minor": 2
}