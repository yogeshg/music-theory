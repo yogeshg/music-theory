{
  "cells": [
    {
      "cell_type": "code", 
      "execution_count": 1, 
      "metadata": {
        "collapsed": true
      }, 
      "outputs": [], 
      "source": [
        "import numpy as np\n", 
        "import math\n", 
        "import matplotlib.pyplot as plt"
      ]
    }, 
    {
      "cell_type": "code", 
      "execution_count": 2, 
      "metadata": {
        "collapsed": true
      }, 
      "outputs": [], 
      "source": [
        "%matplotlib inline"
      ]
    }, 
    {
      "cell_type": "code", 
      "execution_count": 3, 
      "metadata": {
        "collapsed": true
      }, 
      "outputs": [], 
      "source": [
        "import math\n", 
        "import numpy as np\n", 
        "\n", 
        "class Frequency():\n", 
        "\n", 
        "    SAMPLING_RATE = 10 * 44100 # Hz https://en.wikipedia.org/wiki/MP3\n", 
        "    DURATION = .20  # .20 second clip\n", 
        "    X = np.arange(0, DURATION, 1.00/SAMPLING_RATE)\n", 
        "    FUNC = np.sin\n", 
        "\n", 
        "    def __init__(self, frequency):\n", 
        "        self.frequency = frequency\n", 
        "        \n", 
        "    @property\n", 
        "    def wave(self):\n", 
        "        y = self.FUNC(self.frequency * self.X * 2 * math.pi)  # 1 hz * freq\n", 
        "        return y\n", 
        "\n", 
        "class Note(Frequency):\n", 
        "    \n", 
        "    NOTES = \"C C# D D# E F F# G G# A A# B\".split()\n", 
        "    TWELFTH_ROOT_OF_TWO = math.pow(2, 1.00/12.00)\n", 
        "    # Harmonic ratios for each of the intervals\n", 
        "    JUST_INTONATION_RATIOS = [\n", 
        "        1, 16/15.0, 9/8.0, 6/5.0, 5/4.0, 4/3.0, 45/32.0,\n", 
        "        3/2.0, 8/5.0, 5/3.0, 16/9.0, 15/8.0\n", 
        "    ]\n", 
        "\n", 
        "    JUST_INTONATION_LCMS = [\n", 
        "        1, 30, 16, 10, 8, 6, 64,\n", 
        "        4, 10, 3, 18, 16\n", 
        "    ]\n", 
        "    \n", 
        "    def __init__(self, name = \"A\", octave = 4):\n", 
        "        assert(name in self.NOTES)\n", 
        "        self.name = name\n", 
        "        self.octave = int(octave)\n", 
        "        \n", 
        "    @property\n", 
        "    def frequency_justly_tuned(self):\n", 
        "        # (\"C\", 4): 261.63\n", 
        "        difference = Note(self.name, 4).ordinal - Note(\"C\", 4).ordinal\n", 
        "        freq = 261.63 * self.JUST_INTONATION_RATIOS[difference]\n", 
        "        difference_2 = self.ordinal - Note(self.name, 4).ordinal\n", 
        "        if difference_2 >= 0:\n", 
        "            freq *= 2.0 ** difference_2\n", 
        "        else:\n", 
        "            freq /= (0.5) ** (-1 * difference_2)\n", 
        "        return freq\n", 
        "        \n", 
        "    @property\n", 
        "    def frequency_equal_temprament(self):\n", 
        "        difference = self.ordinal - (Note(\"A\", 4).ordinal)\n", 
        "        return 440.00 * (self.TWELFTH_ROOT_OF_TWO ** difference)\n", 
        "\n", 
        "    @property\n", 
        "    def stable_length(self):\n", 
        "        difference = self.ordinal - (Note(\"C\", 4).ordinal)\n", 
        "        return self.JUST_INTONATION_LCMS[difference]\n", 
        "\n", 
        "    @property\n", 
        "    def frequency(self):\n", 
        "        return self.frequency_justly_tuned\n", 
        "    \n", 
        "    @property\n", 
        "    def ordinal(self):\n", 
        "        return self.octave * 12 + self.NOTES.index(self.name)\n", 
        "        \n", 
        "    def __repr__(self):\n", 
        "        return \"{}{} ({:.2f} Hz)\".format(\n", 
        "            self.name, self.octave, self.frequency)"
      ]
    }, 
    {
      "cell_type": "code", 
      "execution_count": 4, 
      "metadata": {
        "collapsed": true
      }, 
      "outputs": [], 
      "source": [
        "def f(theta, a, b):\n", 
        "    x = np.cos((b/a) * theta) * np.cos(theta)\n", 
        "    y = np.cos((b/a) * theta) * np.sin(theta)\n", 
        "    \n", 
        "    #distances = np.square(x[10:] - x[0]) + np.square(y[10:] - y[0])\n", 
        "    #print(np.argmin(distances) + 10)\n", 
        "    \n", 
        "    x = list(reversed(x))\n", 
        "    y = list(reversed(y))\n", 
        "    return {'x': x, 'y': y, 'c': (theta)}\n", 
        "\n", 
        "def plot_curves(notes, tuning):\n", 
        "    plt.figure(figsize=(20,20))\n", 
        "    for i, n in enumerate(notes):\n", 
        "        length = 2 * Note(n).stable_length\n", 
        "        x = np.arange(0, length * np.pi, np.pi / 1000.0)\n", 
        "        ax = plt.subplot(2,2,i+1)\n", 
        "        ax.set_facecolor(\"#000000\")\n", 
        "        if(tuning == 'equal_temprament'):\n", 
        "            plt.scatter(s=1, **f(x, Note('C').frequency_equal_temprament, Note(n).frequency_equal_temprament))\n", 
        "        elif(tuning == 'justly_tuned'):\n", 
        "            plt.scatter(s=1, **f(x, Note('C').frequency_justly_tuned, Note(n).frequency_justly_tuned))\n", 
        "        else:\n", 
        "            plt.scatter(s=1, **f(x, Note('C').frequency, Note(n).frequency))\n"
      ]
    }, 
    {
      "cell_type": "code", 
      "execution_count": 5, 
      "metadata": {}, 
      "outputs": [], 
      "source": [
        "# for n in sorted([Note(name) for name in Note.NOTES], key=lambda x: x.stable_length):\n", 
        "#     print(n, n.stable_length)"
      ]
    }, 
    {
      "cell_type": "markdown", 
      "metadata": {}, 
      "source": [
        "```\n", 
        "C: Perfect Unison\n", 
        "F: Perfect 4th\n", 
        "G: Perfect 5th\n", 
        "\n", 
        "D: Major 2nd\n", 
        "E: Major 3rd\n", 
        "A: Major 6th\n", 
        "B: Major 7th\n", 
        "```"
      ]
    }, 
    {
      "cell_type": "markdown", 
      "metadata": {}, 
      "source": [
        "```\n", 
        "C#: Minor 2nd\n", 
        "D#: Minor 3rd\n", 
        "G#: Minor 6th\n", 
        "A# / Bb: Minor 7th\n", 
        "\n", 
        "F#: Tritone\n", 
        "```"
      ]
    }, 
    {
      "cell_type": "code", 
      "execution_count": 6, 
      "metadata": {}, 
      "outputs": [
        {
          "data": {
            "image/png": "[encoded data removed]", 
            "text/plain": [
              "<matplotlib.figure.Figure at 0x1100a7850>"
            ]
          }, 
          "metadata": {
            "image/png": {
              "location": "images/auto_0ebb16f5c2364117bd008825d4c8ef6f.png"
            }
          }, 
          "output_type": "display_data"
        }
      ], 
      "source": [
        "plot_curves(list('FG'), 'justly_tuned')"
      ]
    }, 
    {
      "cell_type": "code", 
      "execution_count": 7, 
      "metadata": {}, 
      "outputs": [
        {
          "data": {
            "image/png": "[encoded data removed]", 
            "text/plain": [
              "<matplotlib.figure.Figure at 0x117993350>"
            ]
          }, 
          "metadata": {
            "image/png": {
              "location": "images/auto_76d14c7cfaae4352ad94c51910f17966.png"
            }
          }, 
          "output_type": "display_data"
        }
      ], 
      "source": [
        "plot_curves(list('FG'), 'equal_temprament')"
      ]
    }, 
    {
      "cell_type": "code", 
      "execution_count": 8, 
      "metadata": {}, 
      "outputs": [
        {
          "data": {
            "image/png": "[encoded data removed]", 
            "text/plain": [
              "<matplotlib.figure.Figure at 0x10d0430d0>"
            ]
          }, 
          "metadata": {
            "image/png": {
              "location": "images/auto_a2dac160f14e47dfa2f70ece3ac03485.png"
            }
          }, 
          "output_type": "display_data"
        }
      ], 
      "source": [
        "plot_curves(['D', 'E', 'A', 'B'], 'justly_tuned')"
      ]
    }, 
    {
      "cell_type": "code", 
      "execution_count": 9, 
      "metadata": {}, 
      "outputs": [
        {
          "data": {
            "image/png": "[encoded data removed]", 
            "text/plain": [
              "<matplotlib.figure.Figure at 0x118c84bd0>"
            ]
          }, 
          "metadata": {
            "image/png": {
              "location": "images/auto_5dfe044cb8e745ca8d157cbdc4ba76a8.png"
            }
          }, 
          "output_type": "display_data"
        }
      ], 
      "source": [
        "plot_curves(['D', 'E', 'A', 'B'], 'equal_temprament')"
      ]
    }, 
    {
      "cell_type": "code", 
      "execution_count": 10, 
      "metadata": {}, 
      "outputs": [
        {
          "data": {
            "image/png": "[encoded data removed]", 
            "text/plain": [
              "<matplotlib.figure.Figure at 0x117a00390>"
            ]
          }, 
          "metadata": {
            "image/png": {
              "location": "images/auto_75b517c8fd9f4a3ab357dffced15b08b.png"
            }
          }, 
          "output_type": "display_data"
        }
      ], 
      "source": [
        "plot_curves(['C#', 'D#', 'G#', 'A#'], 'justly_tuned')"
      ]
    }, 
    {
      "cell_type": "code", 
      "execution_count": 11, 
      "metadata": {}, 
      "outputs": [
        {
          "data": {
            "image/png": "[encoded data removed]", 
            "text/plain": [
              "<matplotlib.figure.Figure at 0x117b24550>"
            ]
          }, 
          "metadata": {
            "image/png": {
              "location": "images/auto_9084c53a48dc426b97055e01eeaeebc8.png"
            }
          }, 
          "output_type": "display_data"
        }
      ], 
      "source": [
        "plot_curves(['C#', 'D#', 'G#', 'A#'], 'equal_temprament')"
      ]
    }, 
    {
      "cell_type": "code", 
      "execution_count": 12, 
      "metadata": {}, 
      "outputs": [
        {
          "data": {
            "image/png": "[encoded data removed]", 
            "text/plain": [
              "<matplotlib.figure.Figure at 0x118caf590>"
            ]
          }, 
          "metadata": {
            "image/png": {
              "location": "images/auto_9be5704627b5415d9377b7cd73d74030.png"
            }
          }, 
          "output_type": "display_data"
        }
      ], 
      "source": [
        "plot_curves(['F#', 'F#'], 'justly_tuned')"
      ]
    }, 
    {
      "cell_type": "code", 
      "execution_count": 13, 
      "metadata": {}, 
      "outputs": [
        {
          "data": {
            "image/png": "[encoded data removed]", 
            "text/plain": [
              "<matplotlib.figure.Figure at 0x118692310>"
            ]
          }, 
          "metadata": {
            "image/png": {
              "location": "images/auto_bcdc673868e84d65929ff2a251a1c212.png"
            }
          }, 
          "output_type": "display_data"
        }
      ], 
      "source": [
        "plot_curves(['F#', 'F#'], 'equal_temprament')"
      ]
    }, 
    {
      "cell_type": "code", 
      "execution_count": null, 
      "metadata": {
        "collapsed": true
      }, 
      "outputs": [], 
      "source": []
    }, 
    {
      "cell_type": "code", 
      "execution_count": null, 
      "metadata": {
        "collapsed": true
      }, 
      "outputs": [], 
      "source": []
    }
  ], 
  "metadata": {
    "kernelspec": {
      "display_name": "Python 2", 
      "language": "python", 
      "name": "python2"
    }, 
    "language_info": {
      "codemirror_mode": {
        "name": "ipython", 
        "version": 2
      }, 
      "file_extension": ".py", 
      "mimetype": "text/x-python", 
      "name": "python", 
      "nbconvert_exporter": "python", 
      "pygments_lexer": "ipython2", 
      "version": "2.7.15"
    }
  }, 
  "nbformat": 4, 
  "nbformat_minor": 2
}