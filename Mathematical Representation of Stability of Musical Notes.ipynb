{
  "cells": [
    {
      "cell_type": "code", 
      "execution_count": 1, 
      "metadata": {
        "collapsed": true
      }, 
      "outputs": [], 
      "source": [
        "import numpy as np\n", 
        "import math\n", 
        "import matplotlib.pyplot as plt"
      ]
    }, 
    {
      "cell_type": "code", 
      "execution_count": 2, 
      "metadata": {
        "collapsed": true
      }, 
      "outputs": [], 
      "source": [
        "%matplotlib inline"
      ]
    }, 
    {
      "cell_type": "code", 
      "execution_count": 3, 
      "metadata": {
        "collapsed": true
      }, 
      "outputs": [], 
      "source": [
        "import math\n", 
        "import numpy as np\n", 
        "\n", 
        "class Frequency():\n", 
        "\n", 
        "    SAMPLING_RATE = 10 * 44100 # Hz https://en.wikipedia.org/wiki/MP3\n", 
        "    DURATION = .20  # .20 second clip\n", 
        "    X = np.arange(0, DURATION, 1.00/SAMPLING_RATE)\n", 
        "    FUNC = np.sin\n", 
        "\n", 
        "    def __init__(self, frequency):\n", 
        "        self.frequency = frequency\n", 
        "        \n", 
        "    @property\n", 
        "    def wave(self):\n", 
        "        y = self.FUNC(self.frequency * self.X * 2 * math.pi)  # 1 hz * freq\n", 
        "        return y\n", 
        "\n", 
        "class Note(Frequency):\n", 
        "    \n", 
        "    NOTES = \"C C# D D# E F F# G G# A A# B\".split()\n", 
        "    FREQ = {(\"A\", 4): 440}\n", 
        "    TWELFTH_ROOT_OF_TWO = math.pow(2, 1.00/12.00)\n", 
        "    \n", 
        "    def __init__(self, name = \"A\", octave = 4):\n", 
        "        assert(name in self.NOTES)\n", 
        "        self.name = name\n", 
        "        self.octave = int(octave)\n", 
        "        \n", 
        "    @property\n", 
        "    def frequency(self):\n", 
        "        difference = self.ordinal - (Note(\"A\", 4).ordinal)\n", 
        "        return 440.00 * (self.TWELFTH_ROOT_OF_TWO ** difference)\n", 
        "        \n", 
        "    @property\n", 
        "    def ordinal(self):\n", 
        "        return self.octave * 12 + self.NOTES.index(self.name)\n", 
        "        \n", 
        "    def __repr__(self):\n", 
        "        return \"{}{} ({:.2f} Hz)\".format(\n", 
        "            self.name, self.octave, self.frequency)"
      ]
    }, 
    {
      "cell_type": "code", 
      "execution_count": 4, 
      "metadata": {
        "collapsed": true
      }, 
      "outputs": [], 
      "source": [
        "def f(theta, a, b):\n", 
        "    x = np.cos(a * theta)\n", 
        "    y = np.sin(b * theta)\n", 
        "    return {'x': x, 'y': y, 'c': np.exp(theta)}"
      ]
    }, 
    {
      "cell_type": "code", 
      "execution_count": null, 
      "metadata": {
        "collapsed": true
      }, 
      "outputs": [], 
      "source": []
    }, 
    {
      "cell_type": "code", 
      "execution_count": null, 
      "metadata": {
        "collapsed": true
      }, 
      "outputs": [], 
      "source": []
    }, 
    {
      "cell_type": "markdown", 
      "metadata": {}, 
      "source": [
        "```\n", 
        "C: root\n", 
        "D: Major 2nd\n", 
        "E: Major 3rd\n", 
        "F: Perfect 4th\n", 
        "G: Perfect 5th\n", 
        "A: Minor 3th / Minor 6th\n", 
        "B: Minor 2nd / Minor 7th\n", 
        "C: Tonal\n", 
        "```"
      ]
    }, 
    {
      "cell_type": "markdown", 
      "metadata": {}, 
      "source": [
        "```\n", 
        "C#: Minor 2nd\n", 
        "D#: Minor 3rd\n", 
        "F#: Tritone\n", 
        "G#: Major 3rd\n", 
        "A# / Bb: Major 2nd\n", 
        "```"
      ]
    }, 
    {
      "cell_type": "code", 
      "execution_count": 5, 
      "metadata": {
        "collapsed": true
      }, 
      "outputs": [], 
      "source": [
        "x = np.arange(0, 1, .00001)\n", 
        "C = Note('C').frequency"
      ]
    }, 
    {
      "cell_type": "code", 
      "execution_count": 6, 
      "metadata": {}, 
      "outputs": [
        {
          "data": {
            "text/plain": [
              "<matplotlib.figure.Figure at 0x10c9497d0>"
            ]
          }, 
          "metadata": {
            "image/png": {
              "location": "images/auto_ffc6d1e249834b548a27034f6f25e836.png"
            }
          }, 
          "output_type": "display_data"
        }
      ], 
      "source": [
        "plt.figure(figsize=(20,20))\n", 
        "for i, n in enumerate(list('FG')):\n", 
        "    ax = plt.subplot(2,2,i+1)\n", 
        "    ax.set_facecolor(\"#000000\")\n", 
        "    plt.scatter(s=1, **f(x, C, Note(n).frequency))"
      ]
    }, 
    {
      "cell_type": "code", 
      "execution_count": 7, 
      "metadata": {}, 
      "outputs": [
        {
          "data": {
            "text/plain": [
              "<matplotlib.figure.Figure at 0x1154fea90>"
            ]
          }, 
          "metadata": {
            "image/png": {
              "location": "images/auto_13410e4adbc9455785f08d8b927474d5.png"
            }
          }, 
          "output_type": "display_data"
        }
      ], 
      "source": [
        "plt.figure(figsize=(20,20))\n", 
        "for i, n in enumerate(['D', 'E', 'G#', 'A#']):\n", 
        "    ax = plt.subplot(2,2,i+1)\n", 
        "    ax.set_facecolor(\"#000000\")\n", 
        "    plt.scatter(s=1, **f(x, C, Note(n).frequency))"
      ]
    }, 
    {
      "cell_type": "code", 
      "execution_count": 8, 
      "metadata": {}, 
      "outputs": [
        {
          "data": {
            "text/plain": [
              "<matplotlib.figure.Figure at 0x10c9c9cd0>"
            ]
          }, 
          "metadata": {
            "image/png": {
              "location": "images/auto_2bafec8d3bd640a8b2d9ef12e41ad24e.png"
            }
          }, 
          "output_type": "display_data"
        }
      ], 
      "source": [
        "plt.figure(figsize=(20,20))\n", 
        "for i, n in enumerate(['C#', 'D#', 'A', 'B']):\n", 
        "    ax = plt.subplot(2,2,i+1)\n", 
        "    ax.set_facecolor(\"#000000\")\n", 
        "    plt.scatter(s=1, **f(x, C, Note(n).frequency))"
      ]
    }, 
    {
      "cell_type": "code", 
      "execution_count": 9, 
      "metadata": {}, 
      "outputs": [
        {
          "data": {
            "text/plain": [
              "<matplotlib.figure.Figure at 0x114913ed0>"
            ]
          }, 
          "metadata": {
            "image/png": {
              "location": "images/auto_0f4859a276754f01b79080a5f7421b50.png"
            }
          }, 
          "output_type": "display_data"
        }
      ], 
      "source": [
        "plt.figure(figsize=(20,20))\n", 
        "for i, n in enumerate(['F#', 'F#']):\n", 
        "    ax = plt.subplot(2,2,i+1)\n", 
        "    ax.set_facecolor(\"#000000\")\n", 
        "    plt.scatter(s=1, **f(x, C, Note(n).frequency))"
      ]
    }, 
    {
      "cell_type": "code", 
      "execution_count": null, 
      "metadata": {
        "collapsed": true
      }, 
      "outputs": [], 
      "source": []
    }, 
    {
      "cell_type": "code", 
      "execution_count": null, 
      "metadata": {
        "collapsed": true
      }, 
      "outputs": [], 
      "source": []
    }
  ], 
  "metadata": {
    "kernelspec": {
      "display_name": "Python 2", 
      "language": "python", 
      "name": "python2"
    }, 
    "language_info": {
      "codemirror_mode": {
        "name": "ipython", 
        "version": 2
      }, 
      "file_extension": ".py", 
      "mimetype": "text/x-python", 
      "name": "python", 
      "nbconvert_exporter": "python", 
      "pygments_lexer": "ipython2", 
      "version": "2.7.13"
    }
  }, 
  "nbformat": 4, 
  "nbformat_minor": 2
}